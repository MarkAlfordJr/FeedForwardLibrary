{
 "cells": [
  {
   "cell_type": "markdown",
   "id": "0c3b8b5d",
   "metadata": {},
   "source": [
    "# Add Integers\n",
    "\n",
    "the objective of this FFN model is too add two integers together and predict the right result. the integers are between, and including,  -10 and 10,"
   ]
  },
  {
   "cell_type": "markdown",
   "id": "7f075549",
   "metadata": {},
   "source": [
    "### Steps\n",
    "1. data generation\n",
    "2. determine independent and dependent features\n",
    "3. split train and test data\n",
    "4. convert to tensors\n",
    "5. design model\n",
    "6. train model\n",
    "7. evaluate and experiment on model"
   ]
  },
  {
   "cell_type": "code",
   "execution_count": 60,
   "id": "e30977f9",
   "metadata": {},
   "outputs": [],
   "source": [
    "import pandas as pd\n",
    "import numpy as np\n",
    "import torch\n",
    "import torch.nn as nn\n",
    "import matplotlib.pyplot as plt\n",
    "from sklearn.model_selection import train_test_split\n",
    "from sklearn.preprocessing import StandardScaler"
   ]
  },
  {
   "cell_type": "markdown",
   "id": "f222401d",
   "metadata": {},
   "source": [
    "## 1. Data Generation"
   ]
  },
  {
   "cell_type": "code",
   "execution_count": 61,
   "id": "a2943c74",
   "metadata": {},
   "outputs": [
    {
     "data": {
      "text/plain": [
       "((21, 2),\n",
       " array([[-10.,  -9.],\n",
       "        [ -8.,  -7.],\n",
       "        [ -6.,  -5.],\n",
       "        [ -4.,  -3.],\n",
       "        [ -2.,  -1.],\n",
       "        [  0.,   1.],\n",
       "        [  2.,   3.],\n",
       "        [  4.,   5.],\n",
       "        [  6.,   7.],\n",
       "        [  8.,   9.],\n",
       "        [ 10.,   3.],\n",
       "        [  4.,   5.],\n",
       "        [  7.,  -5.],\n",
       "        [  5.,  -1.],\n",
       "        [ -5.,  -8.],\n",
       "        [ -4.,  -3.],\n",
       "        [  9.,   7.],\n",
       "        [  5.,   4.],\n",
       "        [  2.,   1.],\n",
       "        [ -9.,  -8.],\n",
       "        [ -7., -10.]], dtype=float32))"
      ]
     },
     "execution_count": 61,
     "metadata": {},
     "output_type": "execute_result"
    }
   ],
   "source": [
    "X = np.array([[-10,-9,-8,-7,-6,-5,-4,-3,-2,-1,0,1,2,3,4,5,6,7,8,9,10],\n",
    "                  [3,4,5,7,-5,5,-1,-5,-8,-4,-3,9,7,5,4,2,1,-9,-8,-7,-10]], dtype=np.float32)\n",
    "X = X.reshape(21,2)\n",
    "X.shape, X"
   ]
  },
  {
   "cell_type": "code",
   "execution_count": 62,
   "id": "5c551cbf",
   "metadata": {},
   "outputs": [
    {
     "name": "stdout",
     "output_type": "stream",
     "text": [
      "-19.0\n",
      "-15.0\n",
      "-11.0\n",
      "-7.0\n",
      "-3.0\n",
      "1.0\n",
      "5.0\n",
      "9.0\n",
      "13.0\n",
      "17.0\n",
      "13.0\n",
      "9.0\n",
      "2.0\n",
      "4.0\n",
      "-13.0\n",
      "-7.0\n",
      "16.0\n",
      "9.0\n",
      "3.0\n",
      "-17.0\n",
      "-17.0\n",
      "this is the updated temp list[-19.0, -15.0, -11.0, -7.0, -3.0, 1.0, 5.0, 9.0, 13.0, 17.0, 13.0, 9.0, 2.0, 4.0, -13.0, -7.0, 16.0, 9.0, 3.0, -17.0, -17.0]\n"
     ]
    },
    {
     "data": {
      "text/plain": [
       "((21, 2), (21, 1))"
      ]
     },
     "execution_count": 62,
     "metadata": {},
     "output_type": "execute_result"
    }
   ],
   "source": [
    "y = []\n",
    "for sub_array in X:\n",
    "    print(sum(sub_array))\n",
    "    y.append(sum(sub_array).item())\n",
    "\n",
    "print(f'this is the updated temp list{y}')\n",
    "\n",
    "y = np.array(y, dtype=np.float32)\n",
    "y = y.reshape(21,1)\n",
    "X.shape, y.shape"
   ]
  },
  {
   "cell_type": "markdown",
   "id": "ea38c985",
   "metadata": {},
   "source": [
    "## 3. Split train and test data"
   ]
  },
  {
   "cell_type": "code",
   "execution_count": 63,
   "id": "e08438ad",
   "metadata": {},
   "outputs": [
    {
     "data": {
      "text/plain": [
       "(dtype('float32'),\n",
       " dtype('float32'),\n",
       " array([[-10.,  -9.],\n",
       "        [ -8.,  -7.],\n",
       "        [ -6.,  -5.],\n",
       "        [ -4.,  -3.],\n",
       "        [ -2.,  -1.],\n",
       "        [  0.,   1.],\n",
       "        [  2.,   3.],\n",
       "        [  4.,   5.],\n",
       "        [  6.,   7.],\n",
       "        [  8.,   9.],\n",
       "        [ 10.,   3.],\n",
       "        [  4.,   5.],\n",
       "        [  7.,  -5.],\n",
       "        [  5.,  -1.],\n",
       "        [ -5.,  -8.],\n",
       "        [ -4.,  -3.],\n",
       "        [  9.,   7.],\n",
       "        [  5.,   4.],\n",
       "        [  2.,   1.],\n",
       "        [ -9.,  -8.],\n",
       "        [ -7., -10.]], dtype=float32),\n",
       " array([[-19.],\n",
       "        [-15.],\n",
       "        [-11.],\n",
       "        [ -7.],\n",
       "        [ -3.],\n",
       "        [  1.],\n",
       "        [  5.],\n",
       "        [  9.],\n",
       "        [ 13.],\n",
       "        [ 17.],\n",
       "        [ 13.],\n",
       "        [  9.],\n",
       "        [  2.],\n",
       "        [  4.],\n",
       "        [-13.],\n",
       "        [ -7.],\n",
       "        [ 16.],\n",
       "        [  9.],\n",
       "        [  3.],\n",
       "        [-17.],\n",
       "        [-17.]], dtype=float32))"
      ]
     },
     "execution_count": 63,
     "metadata": {},
     "output_type": "execute_result"
    }
   ],
   "source": [
    "y.dtype, X.dtype, X, y"
   ]
  },
  {
   "cell_type": "code",
   "execution_count": 76,
   "id": "593fa6fd",
   "metadata": {},
   "outputs": [
    {
     "data": {
      "text/plain": [
       "(array([[  0.,   1.],\n",
       "        [ -2.,  -1.],\n",
       "        [-10.,  -9.],\n",
       "        [  6.,   7.],\n",
       "        [  2.,   1.],\n",
       "        [  5.,   4.],\n",
       "        [  4.,   5.],\n",
       "        [ 10.,   3.],\n",
       "        [  8.,   9.],\n",
       "        [  4.,   5.],\n",
       "        [ -8.,  -7.],\n",
       "        [ -7., -10.],\n",
       "        [  7.,  -5.],\n",
       "        [  2.,   3.],\n",
       "        [ -9.,  -8.],\n",
       "        [ -4.,  -3.]], dtype=float32),\n",
       " array([[  1.],\n",
       "        [ -3.],\n",
       "        [-19.],\n",
       "        [ 13.],\n",
       "        [  3.],\n",
       "        [  9.],\n",
       "        [  9.],\n",
       "        [ 13.],\n",
       "        [ 17.],\n",
       "        [  9.],\n",
       "        [-15.],\n",
       "        [-17.],\n",
       "        [  2.],\n",
       "        [  5.],\n",
       "        [-17.],\n",
       "        [ -7.]], dtype=float32),\n",
       " array([[-4., -3.],\n",
       "        [ 5., -1.],\n",
       "        [-6., -5.],\n",
       "        [ 9.,  7.],\n",
       "        [-5., -8.]], dtype=float32),\n",
       " array([[ -7.],\n",
       "        [  4.],\n",
       "        [-11.],\n",
       "        [ 16.],\n",
       "        [-13.]], dtype=float32))"
      ]
     },
     "execution_count": 76,
     "metadata": {},
     "output_type": "execute_result"
    }
   ],
   "source": [
    "X_train, X_test, y_train, y_test = train_test_split(X,y, test_size=0.20, random_state=1234)\n",
    "X_train, y_train,  X_test, y_test"
   ]
  },
  {
   "cell_type": "markdown",
   "id": "938d2ca9",
   "metadata": {},
   "source": [
    "## 4. Convert to Tensors for training"
   ]
  },
  {
   "cell_type": "code",
   "execution_count": 77,
   "id": "297f0b67",
   "metadata": {},
   "outputs": [
    {
     "data": {
      "text/plain": [
       "(tensor([[  0.,   1.],\n",
       "         [ -2.,  -1.],\n",
       "         [-10.,  -9.],\n",
       "         [  6.,   7.],\n",
       "         [  2.,   1.],\n",
       "         [  5.,   4.],\n",
       "         [  4.,   5.],\n",
       "         [ 10.,   3.],\n",
       "         [  8.,   9.],\n",
       "         [  4.,   5.],\n",
       "         [ -8.,  -7.],\n",
       "         [ -7., -10.],\n",
       "         [  7.,  -5.],\n",
       "         [  2.,   3.],\n",
       "         [ -9.,  -8.],\n",
       "         [ -4.,  -3.]]),\n",
       " tensor([[-4., -3.],\n",
       "         [ 5., -1.],\n",
       "         [-6., -5.],\n",
       "         [ 9.,  7.],\n",
       "         [-5., -8.]]),\n",
       " tensor([[  1.],\n",
       "         [ -3.],\n",
       "         [-19.],\n",
       "         [ 13.],\n",
       "         [  3.],\n",
       "         [  9.],\n",
       "         [  9.],\n",
       "         [ 13.],\n",
       "         [ 17.],\n",
       "         [  9.],\n",
       "         [-15.],\n",
       "         [-17.],\n",
       "         [  2.],\n",
       "         [  5.],\n",
       "         [-17.],\n",
       "         [ -7.]]),\n",
       " tensor([[ -7.],\n",
       "         [  4.],\n",
       "         [-11.],\n",
       "         [ 16.],\n",
       "         [-13.]]))"
      ]
     },
     "execution_count": 77,
     "metadata": {},
     "output_type": "execute_result"
    }
   ],
   "source": [
    "# scale the data\n",
    "#sc = StandardScaler()\n",
    "#X_train = sc.fit_transform(X_train)\n",
    "#X_test = sc.transform(X_test)\n",
    "# convert back to tensors\n",
    "X_train = torch.tensor(X_train, dtype=torch.float32)\n",
    "X_test = torch.tensor(X_test, dtype=torch.float32)\n",
    "y_train = torch.tensor(y_train, dtype=torch.float32)\n",
    "y_test = torch.tensor(y_test, dtype=torch.float32)\n",
    "\n",
    "X_train, X_test, y_train, y_test"
   ]
  },
  {
   "cell_type": "code",
   "execution_count": null,
   "id": "563b00cb",
   "metadata": {},
   "outputs": [],
   "source": [
    "class FFNAddTwoIntegers(nn.Module):\n",
    "    def __init__(self, input_size):\n",
    "        super(FFNAddTwoIntegers, self).__init__()\n",
    "        "
   ]
  }
 ],
 "metadata": {
  "kernelspec": {
   "display_name": "Python 3",
   "language": "python",
   "name": "python3"
  },
  "language_info": {
   "codemirror_mode": {
    "name": "ipython",
    "version": 3
   },
   "file_extension": ".py",
   "mimetype": "text/x-python",
   "name": "python",
   "nbconvert_exporter": "python",
   "pygments_lexer": "ipython3",
   "version": "3.11.7"
  }
 },
 "nbformat": 4,
 "nbformat_minor": 5
}
