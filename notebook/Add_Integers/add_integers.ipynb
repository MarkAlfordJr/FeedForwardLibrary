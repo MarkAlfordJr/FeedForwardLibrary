{
 "cells": [
  {
   "cell_type": "markdown",
   "id": "0c3b8b5d",
   "metadata": {},
   "source": [
    "# Add Integers\n",
    "\n",
    "the objective of this FFN model is too add two integers together and predict the right result. the integers are between, and including,  -10 and 10,"
   ]
  },
  {
   "cell_type": "markdown",
   "id": "7f075549",
   "metadata": {},
   "source": [
    "### Steps\n",
    "1. data generation\n",
    "2. determine independent and dependent features\n",
    "3. split train and test data\n",
    "4. design model\n",
    "5. train model\n",
    "6. evaluate and experiment on model"
   ]
  },
  {
   "cell_type": "code",
   "execution_count": 1,
   "id": "e30977f9",
   "metadata": {},
   "outputs": [],
   "source": [
    "import pandas as pd\n",
    "import numpy as np\n",
    "import torch\n",
    "import torch.nn as nn\n",
    "import matplotlib.pyplot as plt"
   ]
  },
  {
   "cell_type": "markdown",
   "id": "f222401d",
   "metadata": {},
   "source": [
    "## 1. Data Generation"
   ]
  },
  {
   "cell_type": "code",
   "execution_count": 9,
   "id": "a2943c74",
   "metadata": {},
   "outputs": [
    {
     "data": {
      "text/plain": [
       "(torch.Size([21, 2]),\n",
       " tensor([[-10,  -9],\n",
       "         [ -8,  -7],\n",
       "         [ -6,  -5],\n",
       "         [ -4,  -3],\n",
       "         [ -2,  -1],\n",
       "         [  0,   1],\n",
       "         [  2,   3],\n",
       "         [  4,   5],\n",
       "         [  6,   7],\n",
       "         [  8,   9],\n",
       "         [ 10,   3],\n",
       "         [  4,   5],\n",
       "         [  7,  -5],\n",
       "         [  5,  -1],\n",
       "         [ -5,  -8],\n",
       "         [ -4,  -3],\n",
       "         [  9,   7],\n",
       "         [  5,   4],\n",
       "         [  2,   1],\n",
       "         [ -9,  -8],\n",
       "         [ -7, -10]]))"
      ]
     },
     "execution_count": 9,
     "metadata": {},
     "output_type": "execute_result"
    }
   ],
   "source": [
    "X = torch.tensor([[-10,-9,-8,-7,-6,-5,-4,-3,-2,-1,0,1,2,3,4,5,6,7,8,9,10],\n",
    "                  [3,4,5,7,-5,5,-1,-5,-8,-4,-3,9,7,5,4,2,1,-9,-8,-7,-10]])\n",
    "X = X.view(21,2)\n",
    "X.shape, X"
   ]
  },
  {
   "cell_type": "code",
   "execution_count": null,
   "id": "5c551cbf",
   "metadata": {},
   "outputs": [],
   "source": []
  }
 ],
 "metadata": {
  "kernelspec": {
   "display_name": "Python 3",
   "language": "python",
   "name": "python3"
  },
  "language_info": {
   "codemirror_mode": {
    "name": "ipython",
    "version": 3
   },
   "file_extension": ".py",
   "mimetype": "text/x-python",
   "name": "python",
   "nbconvert_exporter": "python",
   "pygments_lexer": "ipython3",
   "version": "3.11.7"
  }
 },
 "nbformat": 4,
 "nbformat_minor": 5
}
